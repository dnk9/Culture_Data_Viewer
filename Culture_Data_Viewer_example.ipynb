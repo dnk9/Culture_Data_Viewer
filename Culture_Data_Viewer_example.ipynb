{
 "cells": [
  {
   "cell_type": "markdown",
   "metadata": {},
   "source": [
    "# Culture Data Viewer\n"
   ]
  },
  {
   "cell_type": "markdown",
   "metadata": {},
   "source": [
    "## Input files structures\n",
    "How files should be structured"
   ]
  },
  {
   "cell_type": "markdown",
   "metadata": {},
   "source": [
    "### DASGIP® reactor files\n",
    "These are the zip files produced at the end of the fermentation. CDV was tested with files coming from v4 and v5 of the DASGIP® software."
   ]
  },
  {
   "cell_type": "markdown",
   "metadata": {},
   "source": [
    "### Offline measurements files\n",
    "These are xlsx files containing a single sheet with the one column for each measured compound and the following required columns: \n",
    "\n",
    "    Condition, Time (h), OD\n",
    "    \n",
    "- The \"Condition\" column refers to the reactor number in the DASGIP® file.\n",
    "- The \"Time (h)\" column indicates the amount of time passed since the inoculation.\n",
    "- The \"OD\" column contains the optical density measurements.\n"
   ]
  },
  {
   "cell_type": "markdown",
   "metadata": {},
   "source": [
    "### Compounds.xlsx\n",
    "This file contains information about the properties of each measured compound. It is necessary to perform some of the calculations coded in the calc module. This is an xlsx file with only one sheet with the following columns. Each compound has its own line.\n",
    "\n",
    "    Compound, Density [g/mL], Molar mass [g/mol], C Atoms [#]\n",
    "    \n",
    "- The \"Compound\" column contains the name of the compound\n",
    "- The \"Density [g/mL]\" column contains the density of the compound\n",
    "- The \"Molar mass [g/mol]\" column contains the molar mass of the compound\n",
    "- The \"C Atoms [#]\" column contains the number of carbon atoms present in the compound"
   ]
  },
  {
   "cell_type": "markdown",
   "metadata": {},
   "source": [
    "## Usage"
   ]
  },
  {
   "cell_type": "code",
   "execution_count": null,
   "metadata": {},
   "outputs": [],
   "source": [
    "import pandas as pd\n",
    "\n",
    "import das\n",
    "import merge\n",
    "import calc\n",
    "import visualize"
   ]
  },
  {
   "cell_type": "code",
   "execution_count": null,
   "metadata": {},
   "outputs": [],
   "source": [
    "# Specify your entry files:\n",
    "reactor_file_dasgip = \"DAS01.zip\"\n",
    "offline_file = \"DAS01-offline.xlsx\"\n",
    "compounds_file = \"Compounds.xlsx\""
   ]
  },
  {
   "cell_type": "code",
   "execution_count": null,
   "metadata": {},
   "outputs": [],
   "source": [
    "# Data necessary for the calculations in the CALC module\n",
    "\n",
    "# cmpd_data_dict: dictionary of 'feeds'. Each feed is a list of compounds, expressed as dictionaries with the following\n",
    "# keys: (cmpd: compound name, Concentration: concentration of the compound in the feed (g/L), Density: density of the\n",
    "# feed). These data are necessary to calculate the amount of each compound added with the feeding.\n",
    "cmpd_data_dict = {\"Feed1\": [{\"cmpd\": \"Cmpd1\", \"Concentration\": 600, \"Density\": 1100}]}\n",
    "\n",
    "# cmpd_set: set of compound names that will be analysed. In the offline file, only the columns with names contained in\n",
    "# this list will be imported.\n",
    "cmpd_set = {'Cmpd1', 'Cmpd2', 'Cmpd3', 'Cmpd4', 'Cmpd5'}\n",
    "\n",
    "# cmpds_substrates: set of compound names that will be considered as substrates.\n",
    "cmpds_substrates = {'Cmpd1'}"
   ]
  },
  {
   "cell_type": "markdown",
   "metadata": {},
   "source": [
    "Culture Data Viewer uses pandas' *DataFrames (df)* to hold tabular *culture* data. \n",
    "For this reason the main object in CDV is called ***Culture DataFrame (cdf)***."
   ]
  },
  {
   "cell_type": "code",
   "execution_count": null,
   "metadata": {},
   "outputs": [],
   "source": [
    "# Import the original files\n",
    "\n",
    "# cdf_dict: each DASGIP® file contains multiple reactor tracks. Each track is extracted to a cdf and saved in the cdf\n",
    "# dictionary with the reactor number as key.\n",
    "cdf_dict = das.extract(reactor_file_dasgip)\n",
    "\n",
    "offline_cdf_dict = merge.open_offline_file(offline_file)\n",
    "\n",
    "cmpds_properties = pd.read_excel(compounds_file).set_index(\"Compound\")"
   ]
  },
  {
   "cell_type": "code",
   "execution_count": null,
   "metadata": {},
   "outputs": [],
   "source": [
    "# Merge the offline data to the reactor data\n",
    "merged_cdf_dict = merge.merge_df_dicts(cdf_dict, offline_cdf_dict)"
   ]
  },
  {
   "cell_type": "code",
   "execution_count": null,
   "metadata": {},
   "outputs": [],
   "source": [
    "# Working on one of the cultures\n",
    "cdf = merged_cdf_dict[1]"
   ]
  },
  {
   "cell_type": "code",
   "execution_count": null,
   "metadata": {},
   "outputs": [],
   "source": [
    "# Perform all the calculations specified in the CALC module \n",
    "cdf_calc = calc.complete_analysis(cdf, cmpds_substrates, cmpds_properties, cmpd_set, cmpd_data_dict)"
   ]
  },
  {
   "cell_type": "code",
   "execution_count": null,
   "metadata": {},
   "outputs": [],
   "source": [
    "# Define the plotting parameters\n",
    "nax1 = {\"cols\":[\"OD\", \"Cmpd1\"], \"mode\":\"lines+markers\", \"title\":\"OD [A.U.], Cmpd1 [g/L]\", \"titlefont\":{\"color\":\"#000000\"}, \"tickfont\":{\"color\":\"#000000\"}}\n",
    "nax2 = {\"cols\":[\"Cmpd5\"], \"mode\":\"lines+markers\", \"title\":\"Cmpd5 [g/L]\", \"titlefont\":{\"color\":\"#000000\"}, \"tickfont\":{\"color\":\"#000000\"}}\n",
    "nax3 = {\"cols\":[\"CO2_g_prod_cumsum [g]\"], \"mode\":\"lines\", \"title\":\"CO2 produced [g]\", \"titlefont\":{\"color\":\"#000000\"}, \"tickfont\":{\"color\":\"#000000\"}}\n",
    "nax4 = {\"cols\":['Cmpd2', 'Cmpd3', 'Cmpd4'], \"mode\":\"lines+markers\", \"title\":\"Cmpd2, Cmpd3, Cmpd4 [g/L]\", \"titlefont\":{\"color\":\"#000000\"}, \"tickfont\":{\"color\":\"#000000\"}}\n",
    "\n",
    "x_axes_list = [nax1, nax2, nax3, nax4]\n",
    "\n",
    "\n",
    "\n",
    "# Setting Inoculation Time as x axis\n",
    "cdf_calc[\"InoculationTime []\"] = cdf_calc[\"InoculationTime []\"] / pd.Timedelta(hours=1) \n",
    "cdf_calc.set_index(\"InoculationTime []\", inplace = True)\n",
    "\n",
    "f = visualize.plot(cdf_calc, x_axes_list)"
   ]
  },
  {
   "cell_type": "code",
   "execution_count": null,
   "metadata": {},
   "outputs": [],
   "source": [
    "f.show()"
   ]
  }
 ],
 "metadata": {
  "kernelspec": {
   "display_name": "Python 3",
   "language": "python",
   "name": "python3"
  },
  "language_info": {
   "codemirror_mode": {
    "name": "ipython",
    "version": 3
   },
   "file_extension": ".py",
   "mimetype": "text/x-python",
   "name": "python",
   "nbconvert_exporter": "python",
   "pygments_lexer": "ipython3",
   "version": "3.8.2"
  }
 },
 "nbformat": 4,
 "nbformat_minor": 4
}
